{
  "nbformat": 4,
  "nbformat_minor": 0,
  "metadata": {
    "colab": {
      "provenance": [],
      "toc_visible": true,
      "authorship_tag": "ABX9TyM7iG3hP6kS2RHS2GTroa5b",
      "include_colab_link": true
    },
    "kernelspec": {
      "name": "python3",
      "display_name": "Python 3"
    },
    "language_info": {
      "name": "python"
    }
  },
  "cells": [
    {
      "cell_type": "markdown",
      "metadata": {
        "id": "view-in-github",
        "colab_type": "text"
      },
      "source": [
        "<a href=\"https://colab.research.google.com/github/abosedealli/SIT723UNIT_STOCK_-PREDICTION_AR_ARIMA_LSTM_LR-/blob/main/AutoRegression_Netfflix_Best_Prediction_(6%20month_dataset)model.ipynb\" target=\"_parent\"><img src=\"https://colab.research.google.com/assets/colab-badge.svg\" alt=\"Open In Colab\"/></a>"
      ]
    },
    {
      "cell_type": "code",
      "source": [
        "#Time Series AR Model"
      ],
      "metadata": {
        "id": "V4_6uDv9zJ_2"
      },
      "execution_count": null,
      "outputs": []
    },
    {
      "cell_type": "markdown",
      "source": [],
      "metadata": {
        "id": "akJmke0czJiI"
      }
    },
    {
      "cell_type": "code",
      "execution_count": 77,
      "metadata": {
        "colab": {
          "base_uri": "https://localhost:8080/"
        },
        "id": "nxY1AdITzGZz",
        "outputId": "cde8214a-bd65-4537-c15f-169b305615d5"
      },
      "outputs": [
        {
          "output_type": "stream",
          "name": "stdout",
          "text": [
            "Looking in indexes: https://pypi.org/simple, https://us-python.pkg.dev/colab-wheels/public/simple/\n",
            "Requirement already satisfied: yfinance in /usr/local/lib/python3.8/dist-packages (0.2.11)\n",
            "Requirement already satisfied: requests>=2.26 in /usr/local/lib/python3.8/dist-packages (from yfinance) (2.28.2)\n",
            "Requirement already satisfied: frozendict>=2.3.4 in /usr/local/lib/python3.8/dist-packages (from yfinance) (2.3.4)\n",
            "Requirement already satisfied: appdirs>=1.4.4 in /usr/local/lib/python3.8/dist-packages (from yfinance) (1.4.4)\n",
            "Requirement already satisfied: pytz>=2022.5 in /usr/local/lib/python3.8/dist-packages (from yfinance) (2022.7.1)\n",
            "Requirement already satisfied: pandas>=1.3.0 in /usr/local/lib/python3.8/dist-packages (from yfinance) (1.3.5)\n",
            "Requirement already satisfied: cryptography>=3.3.2 in /usr/local/lib/python3.8/dist-packages (from yfinance) (39.0.1)\n",
            "Requirement already satisfied: beautifulsoup4>=4.11.1 in /usr/local/lib/python3.8/dist-packages (from yfinance) (4.11.2)\n",
            "Requirement already satisfied: html5lib>=1.1 in /usr/local/lib/python3.8/dist-packages (from yfinance) (1.1)\n",
            "Requirement already satisfied: multitasking>=0.0.7 in /usr/local/lib/python3.8/dist-packages (from yfinance) (0.0.11)\n",
            "Requirement already satisfied: lxml>=4.9.1 in /usr/local/lib/python3.8/dist-packages (from yfinance) (4.9.2)\n",
            "Requirement already satisfied: numpy>=1.16.5 in /usr/local/lib/python3.8/dist-packages (from yfinance) (1.21.6)\n",
            "Requirement already satisfied: soupsieve>1.2 in /usr/local/lib/python3.8/dist-packages (from beautifulsoup4>=4.11.1->yfinance) (2.3.2.post1)\n",
            "Requirement already satisfied: cffi>=1.12 in /usr/local/lib/python3.8/dist-packages (from cryptography>=3.3.2->yfinance) (1.15.1)\n",
            "Requirement already satisfied: six>=1.9 in /usr/local/lib/python3.8/dist-packages (from html5lib>=1.1->yfinance) (1.15.0)\n",
            "Requirement already satisfied: webencodings in /usr/local/lib/python3.8/dist-packages (from html5lib>=1.1->yfinance) (0.5.1)\n",
            "Requirement already satisfied: python-dateutil>=2.7.3 in /usr/local/lib/python3.8/dist-packages (from pandas>=1.3.0->yfinance) (2.8.2)\n",
            "Requirement already satisfied: certifi>=2017.4.17 in /usr/local/lib/python3.8/dist-packages (from requests>=2.26->yfinance) (2022.12.7)\n",
            "Requirement already satisfied: charset-normalizer<4,>=2 in /usr/local/lib/python3.8/dist-packages (from requests>=2.26->yfinance) (2.1.1)\n",
            "Requirement already satisfied: urllib3<1.27,>=1.21.1 in /usr/local/lib/python3.8/dist-packages (from requests>=2.26->yfinance) (1.24.3)\n",
            "Requirement already satisfied: idna<4,>=2.5 in /usr/local/lib/python3.8/dist-packages (from requests>=2.26->yfinance) (2.10)\n",
            "Requirement already satisfied: pycparser in /usr/local/lib/python3.8/dist-packages (from cffi>=1.12->cryptography>=3.3.2->yfinance) (2.21)\n",
            "Looking in indexes: https://pypi.org/simple, https://us-python.pkg.dev/colab-wheels/public/simple/\n",
            "Requirement already satisfied: pandas in /usr/local/lib/python3.8/dist-packages (1.3.5)\n",
            "Requirement already satisfied: pytz>=2017.3 in /usr/local/lib/python3.8/dist-packages (from pandas) (2022.7.1)\n",
            "Requirement already satisfied: numpy>=1.17.3 in /usr/local/lib/python3.8/dist-packages (from pandas) (1.21.6)\n",
            "Requirement already satisfied: python-dateutil>=2.7.3 in /usr/local/lib/python3.8/dist-packages (from pandas) (2.8.2)\n",
            "Requirement already satisfied: six>=1.5 in /usr/local/lib/python3.8/dist-packages (from python-dateutil>=2.7.3->pandas) (1.15.0)\n"
          ]
        }
      ],
      "source": [
        "!pip install yfinance\n",
        "!pip  install pandas"
      ]
    },
    {
      "cell_type": "code",
      "source": [
        "import numpy as np\n",
        "import pandas as pd\n",
        "import matplotlib.pyplot as plt\n",
        "import seaborn as sns"
      ],
      "metadata": {
        "id": "tYZvXz6S0A0T"
      },
      "execution_count": 78,
      "outputs": []
    },
    {
      "cell_type": "code",
      "source": [
        "from statsmodels.tsa.ar_model import AutoReg, ar_select_order\n",
        "from sklearn.model_selection import train_test_split\n",
        "a_df =pd.read_csv('/content/newntflixs.csv') \n",
        "a_df = pd.DataFrame(a_df)"
      ],
      "metadata": {
        "id": "u3L71zce0PEU"
      },
      "execution_count": 86,
      "outputs": []
    },
    {
      "cell_type": "markdown",
      "source": [
        "# New Section"
      ],
      "metadata": {
        "id": "OMuSE-oOr8ah"
      }
    },
    {
      "cell_type": "code",
      "source": [
        "a_df = a_df.asfreq('d') # Alterating the frequency to day\n",
        "a_df.index # Checking the frequency\n",
        "a_df = a_df.fillna(method='ffill') # Fill missing values\n",
        "\n",
        "# Delete unnamed column\n",
        "a_df.drop(a_df.columns[a_df.columns.str.contains('unnamed',case = False)],\n",
        "          axis = 1, inplace = True)"
      ],
      "metadata": {
        "id": "KOf8IOmc2IF7"
      },
      "execution_count": 85,
      "outputs": []
    },
    {
      "cell_type": "code",
      "source": [
        "a_df"
      ],
      "metadata": {
        "id": "haHIFM3EEfBW",
        "outputId": "0214c64b-b569-4252-a740-dbb27ca6d0f4",
        "colab": {
          "base_uri": "https://localhost:8080/",
          "height": 423
        }
      },
      "execution_count": 87,
      "outputs": [
        {
          "output_type": "execute_result",
          "data": {
            "text/plain": [
              "           Date        Open        High         Low       Close   Adj Close  \\\n",
              "0     1/07/2022  176.490005  180.100006  174.270004  179.949997  179.949997   \n",
              "1     5/07/2022  176.279999  185.919998  172.679993  185.880005  185.880005   \n",
              "2     6/07/2022  185.199997  186.220001  180.820007  184.059998  184.059998   \n",
              "3     7/07/2022  184.270004  190.210007  183.500000  189.270004  189.270004   \n",
              "4     8/07/2022  186.020004  189.910004  182.750000  186.979996  186.979996   \n",
              "..          ...         ...         ...         ...         ...         ...   \n",
              "122  23/12/2022  296.179993  298.459991  291.910004  294.959991  294.959991   \n",
              "123  27/12/2022  293.190002  293.570007  282.130005  284.170013  284.170013   \n",
              "124  28/12/2022  281.920013  285.190002  273.410004  276.880005  276.880005   \n",
              "125  29/12/2022  283.179993  295.500000  281.010010  291.119995  291.119995   \n",
              "126  30/12/2022  285.529999  295.010010  283.220001  294.880005  294.880005   \n",
              "\n",
              "      Volume  \n",
              "0    5201600  \n",
              "1    7334300  \n",
              "2    5753400  \n",
              "3    6334500  \n",
              "4    5835700  \n",
              "..       ...  \n",
              "122  4251100  \n",
              "123  5778100  \n",
              "124  5964400  \n",
              "125  9588500  \n",
              "126  7557400  \n",
              "\n",
              "[127 rows x 7 columns]"
            ],
            "text/html": [
              "\n",
              "  <div id=\"df-0ac3af7c-5d44-407f-b8bc-ab6b59dfe859\">\n",
              "    <div class=\"colab-df-container\">\n",
              "      <div>\n",
              "<style scoped>\n",
              "    .dataframe tbody tr th:only-of-type {\n",
              "        vertical-align: middle;\n",
              "    }\n",
              "\n",
              "    .dataframe tbody tr th {\n",
              "        vertical-align: top;\n",
              "    }\n",
              "\n",
              "    .dataframe thead th {\n",
              "        text-align: right;\n",
              "    }\n",
              "</style>\n",
              "<table border=\"1\" class=\"dataframe\">\n",
              "  <thead>\n",
              "    <tr style=\"text-align: right;\">\n",
              "      <th></th>\n",
              "      <th>Date</th>\n",
              "      <th>Open</th>\n",
              "      <th>High</th>\n",
              "      <th>Low</th>\n",
              "      <th>Close</th>\n",
              "      <th>Adj Close</th>\n",
              "      <th>Volume</th>\n",
              "    </tr>\n",
              "  </thead>\n",
              "  <tbody>\n",
              "    <tr>\n",
              "      <th>0</th>\n",
              "      <td>1/07/2022</td>\n",
              "      <td>176.490005</td>\n",
              "      <td>180.100006</td>\n",
              "      <td>174.270004</td>\n",
              "      <td>179.949997</td>\n",
              "      <td>179.949997</td>\n",
              "      <td>5201600</td>\n",
              "    </tr>\n",
              "    <tr>\n",
              "      <th>1</th>\n",
              "      <td>5/07/2022</td>\n",
              "      <td>176.279999</td>\n",
              "      <td>185.919998</td>\n",
              "      <td>172.679993</td>\n",
              "      <td>185.880005</td>\n",
              "      <td>185.880005</td>\n",
              "      <td>7334300</td>\n",
              "    </tr>\n",
              "    <tr>\n",
              "      <th>2</th>\n",
              "      <td>6/07/2022</td>\n",
              "      <td>185.199997</td>\n",
              "      <td>186.220001</td>\n",
              "      <td>180.820007</td>\n",
              "      <td>184.059998</td>\n",
              "      <td>184.059998</td>\n",
              "      <td>5753400</td>\n",
              "    </tr>\n",
              "    <tr>\n",
              "      <th>3</th>\n",
              "      <td>7/07/2022</td>\n",
              "      <td>184.270004</td>\n",
              "      <td>190.210007</td>\n",
              "      <td>183.500000</td>\n",
              "      <td>189.270004</td>\n",
              "      <td>189.270004</td>\n",
              "      <td>6334500</td>\n",
              "    </tr>\n",
              "    <tr>\n",
              "      <th>4</th>\n",
              "      <td>8/07/2022</td>\n",
              "      <td>186.020004</td>\n",
              "      <td>189.910004</td>\n",
              "      <td>182.750000</td>\n",
              "      <td>186.979996</td>\n",
              "      <td>186.979996</td>\n",
              "      <td>5835700</td>\n",
              "    </tr>\n",
              "    <tr>\n",
              "      <th>...</th>\n",
              "      <td>...</td>\n",
              "      <td>...</td>\n",
              "      <td>...</td>\n",
              "      <td>...</td>\n",
              "      <td>...</td>\n",
              "      <td>...</td>\n",
              "      <td>...</td>\n",
              "    </tr>\n",
              "    <tr>\n",
              "      <th>122</th>\n",
              "      <td>23/12/2022</td>\n",
              "      <td>296.179993</td>\n",
              "      <td>298.459991</td>\n",
              "      <td>291.910004</td>\n",
              "      <td>294.959991</td>\n",
              "      <td>294.959991</td>\n",
              "      <td>4251100</td>\n",
              "    </tr>\n",
              "    <tr>\n",
              "      <th>123</th>\n",
              "      <td>27/12/2022</td>\n",
              "      <td>293.190002</td>\n",
              "      <td>293.570007</td>\n",
              "      <td>282.130005</td>\n",
              "      <td>284.170013</td>\n",
              "      <td>284.170013</td>\n",
              "      <td>5778100</td>\n",
              "    </tr>\n",
              "    <tr>\n",
              "      <th>124</th>\n",
              "      <td>28/12/2022</td>\n",
              "      <td>281.920013</td>\n",
              "      <td>285.190002</td>\n",
              "      <td>273.410004</td>\n",
              "      <td>276.880005</td>\n",
              "      <td>276.880005</td>\n",
              "      <td>5964400</td>\n",
              "    </tr>\n",
              "    <tr>\n",
              "      <th>125</th>\n",
              "      <td>29/12/2022</td>\n",
              "      <td>283.179993</td>\n",
              "      <td>295.500000</td>\n",
              "      <td>281.010010</td>\n",
              "      <td>291.119995</td>\n",
              "      <td>291.119995</td>\n",
              "      <td>9588500</td>\n",
              "    </tr>\n",
              "    <tr>\n",
              "      <th>126</th>\n",
              "      <td>30/12/2022</td>\n",
              "      <td>285.529999</td>\n",
              "      <td>295.010010</td>\n",
              "      <td>283.220001</td>\n",
              "      <td>294.880005</td>\n",
              "      <td>294.880005</td>\n",
              "      <td>7557400</td>\n",
              "    </tr>\n",
              "  </tbody>\n",
              "</table>\n",
              "<p>127 rows × 7 columns</p>\n",
              "</div>\n",
              "      <button class=\"colab-df-convert\" onclick=\"convertToInteractive('df-0ac3af7c-5d44-407f-b8bc-ab6b59dfe859')\"\n",
              "              title=\"Convert this dataframe to an interactive table.\"\n",
              "              style=\"display:none;\">\n",
              "        \n",
              "  <svg xmlns=\"http://www.w3.org/2000/svg\" height=\"24px\"viewBox=\"0 0 24 24\"\n",
              "       width=\"24px\">\n",
              "    <path d=\"M0 0h24v24H0V0z\" fill=\"none\"/>\n",
              "    <path d=\"M18.56 5.44l.94 2.06.94-2.06 2.06-.94-2.06-.94-.94-2.06-.94 2.06-2.06.94zm-11 1L8.5 8.5l.94-2.06 2.06-.94-2.06-.94L8.5 2.5l-.94 2.06-2.06.94zm10 10l.94 2.06.94-2.06 2.06-.94-2.06-.94-.94-2.06-.94 2.06-2.06.94z\"/><path d=\"M17.41 7.96l-1.37-1.37c-.4-.4-.92-.59-1.43-.59-.52 0-1.04.2-1.43.59L10.3 9.45l-7.72 7.72c-.78.78-.78 2.05 0 2.83L4 21.41c.39.39.9.59 1.41.59.51 0 1.02-.2 1.41-.59l7.78-7.78 2.81-2.81c.8-.78.8-2.07 0-2.86zM5.41 20L4 18.59l7.72-7.72 1.47 1.35L5.41 20z\"/>\n",
              "  </svg>\n",
              "      </button>\n",
              "      \n",
              "  <style>\n",
              "    .colab-df-container {\n",
              "      display:flex;\n",
              "      flex-wrap:wrap;\n",
              "      gap: 12px;\n",
              "    }\n",
              "\n",
              "    .colab-df-convert {\n",
              "      background-color: #E8F0FE;\n",
              "      border: none;\n",
              "      border-radius: 50%;\n",
              "      cursor: pointer;\n",
              "      display: none;\n",
              "      fill: #1967D2;\n",
              "      height: 32px;\n",
              "      padding: 0 0 0 0;\n",
              "      width: 32px;\n",
              "    }\n",
              "\n",
              "    .colab-df-convert:hover {\n",
              "      background-color: #E2EBFA;\n",
              "      box-shadow: 0px 1px 2px rgba(60, 64, 67, 0.3), 0px 1px 3px 1px rgba(60, 64, 67, 0.15);\n",
              "      fill: #174EA6;\n",
              "    }\n",
              "\n",
              "    [theme=dark] .colab-df-convert {\n",
              "      background-color: #3B4455;\n",
              "      fill: #D2E3FC;\n",
              "    }\n",
              "\n",
              "    [theme=dark] .colab-df-convert:hover {\n",
              "      background-color: #434B5C;\n",
              "      box-shadow: 0px 1px 3px 1px rgba(0, 0, 0, 0.15);\n",
              "      filter: drop-shadow(0px 1px 2px rgba(0, 0, 0, 0.3));\n",
              "      fill: #FFFFFF;\n",
              "    }\n",
              "  </style>\n",
              "\n",
              "      <script>\n",
              "        const buttonEl =\n",
              "          document.querySelector('#df-0ac3af7c-5d44-407f-b8bc-ab6b59dfe859 button.colab-df-convert');\n",
              "        buttonEl.style.display =\n",
              "          google.colab.kernel.accessAllowed ? 'block' : 'none';\n",
              "\n",
              "        async function convertToInteractive(key) {\n",
              "          const element = document.querySelector('#df-0ac3af7c-5d44-407f-b8bc-ab6b59dfe859');\n",
              "          const dataTable =\n",
              "            await google.colab.kernel.invokeFunction('convertToInteractive',\n",
              "                                                     [key], {});\n",
              "          if (!dataTable) return;\n",
              "\n",
              "          const docLinkHtml = 'Like what you see? Visit the ' +\n",
              "            '<a target=\"_blank\" href=https://colab.research.google.com/notebooks/data_table.ipynb>data table notebook</a>'\n",
              "            + ' to learn more about interactive tables.';\n",
              "          element.innerHTML = '';\n",
              "          dataTable['output_type'] = 'display_data';\n",
              "          await google.colab.output.renderOutput(dataTable, element);\n",
              "          const docLink = document.createElement('div');\n",
              "          docLink.innerHTML = docLinkHtml;\n",
              "          element.appendChild(docLink);\n",
              "        }\n",
              "      </script>\n",
              "    </div>\n",
              "  </div>\n",
              "  "
            ]
          },
          "metadata": {},
          "execution_count": 87
        }
      ]
    },
    {
      "cell_type": "code",
      "source": [
        "import statsmodels.tsa.stattools as sts\n",
        "from statsmodels.tsa.stattools import adfuller"
      ],
      "metadata": {
        "id": "2tvF6fr2-bGE"
      },
      "execution_count": 75,
      "outputs": []
    },
    {
      "cell_type": "code",
      "source": [
        "from pandas.plotting import lag_plot\n",
        "plt.figure(figsize=(8,6))\n",
        "lag_plot(a_df['Adj Close'], lag=1)\n",
        "plt.title('Autocorrelation plot')\n",
        "plt.grid(True)\n",
        "plt.legend();\n",
        "\n",
        "from pandas import DataFrame\n",
        "from pandas import concat\n",
        "values = DataFrame(a_df['Adj Close'].values)\n",
        "dataframe = concat([values.shift(120), values], axis=1)\n",
        "dataframe.columns = ['t-1', 't+1']\n",
        "result = dataframe.corr()\n",
        "print(result)"
      ],
      "metadata": {
        "colab": {
          "base_uri": "https://localhost:8080/",
          "height": 473
        },
        "id": "G3GHdnY4-rEd",
        "outputId": "eae3db5f-c72f-4d6e-a8c6-09dac9743e95"
      },
      "execution_count": 88,
      "outputs": [
        {
          "output_type": "stream",
          "name": "stderr",
          "text": [
            "WARNING:matplotlib.legend:No handles with labels found to put in legend.\n"
          ]
        },
        {
          "output_type": "stream",
          "name": "stdout",
          "text": [
            "          t-1       t+1\n",
            "t-1  1.000000 -0.507139\n",
            "t+1 -0.507139  1.000000\n"
          ]
        },
        {
          "output_type": "display_data",
          "data": {
            "text/plain": [
              "<Figure size 576x432 with 1 Axes>"
            ],
            "image/png": "[encoded data removed]"
          },
          "metadata": {
            "needs_background": "light"
          }
        }
      ]
    },
    {
      "cell_type": "code",
      "source": [
        "# Create our model using whole data set\n",
        "model = AutoReg(a_df['Adj Close'], 31)\n",
        "model_fit = model.fit()"
      ],
      "metadata": {
        "id": "asQvi1rl3bdE",
        "colab": {
          "base_uri": "https://localhost:8080/"
        },
        "outputId": "791e1971-1d65-4bf8-ce7e-dfce392cec54"
      },
      "execution_count": 89,
      "outputs": [
        {
          "output_type": "stream",
          "name": "stderr",
          "text": [
            "/usr/local/lib/python3.8/dist-packages/statsmodels/tsa/ar_model.py:248: FutureWarning: The parameter names will change after 0.12 is released. Set old_names to False to use the new names now. Set old_names to True to use the old names. \n",
            "  warnings.warn(\n"
          ]
        }
      ]
    },
    {
      "cell_type": "code",
      "source": [
        "train_df = a_df.sample(frac=0.8, random_state=25)\n",
        "test_df = a_df.drop(train_df.index)"
      ],
      "metadata": {
        "id": "7Lic2T1L3hwd"
      },
      "execution_count": 90,
      "outputs": []
    },
    {
      "cell_type": "code",
      "source": [
        "train_model = AutoReg(a_df['Adj Close'], 31).fit(cov_type=\"HC0\")"
      ],
      "metadata": {
        "id": "xPRNaYj83mmO"
      },
      "execution_count": 94,
      "outputs": []
    },
    {
      "cell_type": "code",
      "source": [
        "# Define start and end for prediction \n",
        "start = len(train_df)\n",
        "end = len(train_df) + len(test_df) - 1\n",
        "\n",
        "prediction = train_model.predict(start=start, end=end+100, dynamic=True)\n"
      ],
      "metadata": {
        "id": "AYsIw9qB35lw"
      },
      "execution_count": 95,
      "outputs": []
    },
    {
      "cell_type": "code",
      "source": [
        "# Plot testing data with prediction\n",
        "plt.plot(test_df['Adj Close'], 'orange', label='Actual Adj Close Price')\n",
        "plt.plot(prediction, 'green', label='Predicted Price')\n",
        "plt.title('Price Prediction')\n",
        "plt.ylabel(\"Prices\")\n",
        "plt.legend()\n",
        "plt.show()"
      ],
      "metadata": {
        "colab": {
          "base_uri": "https://localhost:8080/",
          "height": 281
        },
        "id": "rU5-bbZr39DM",
        "outputId": "1cf582a0-d192-45f6-d156-d575a866dd7b"
      },
      "execution_count": 97,
      "outputs": [
        {
          "output_type": "display_data",
          "data": {
            "text/plain": [
              "<Figure size 432x288 with 1 Axes>"
            ],
            "image/png": "[encoded data removed]"
          },
          "metadata": {
            "needs_background": "light"
          }
        }
      ]
    },
    {
      "cell_type": "code",
      "source": [
        "#  RMSE and MAPE  we will Calculate the RMSE and MAPE values\n",
        "from sklearn.metrics import mean_squared_error\n",
        "from sklearn.metrics import mean_absolute_error\n",
        "mae= np.mean(np.abs(prediction - test_df['Adj Close']))\n",
        "\n",
        "# Calculate RMSE and MAPE\n",
        "rmse = np.sqrt(np.mean((prediction - test_df['Adj Close'])**2))\n",
        "mape = np.mean(np.abs(prediction - test_df['Adj Close']) / test_df['Adj Close'])\n",
        "mse=(np.sqrt(np.mean((prediction - test_df['Adj Close'])**2)))**2\n",
        "\n",
        "\n",
        "print(\"RMSE:\", rmse)\n",
        "print(\"MAPE:\", mape)\n",
        "print(\"MsE\", mse)\n",
        "print(\"MAE:\", mae)\n",
        "\n"
      ],
      "metadata": {
        "colab": {
          "base_uri": "https://localhost:8080/"
        },
        "id": "Ow2rYOOR4JdY",
        "outputId": "6bf0ea04-e843-467a-cb3b-19a08b46643b"
      },
      "execution_count": 98,
      "outputs": [
        {
          "output_type": "stream",
          "name": "stdout",
          "text": [
            "RMSE: 15.230990492292216\n",
            "MAPE: 0.04178991001770832\n",
            "MsE 231.9830713762959\n",
            "MAE: 12.871677017143986\n"
          ]
        }
      ]
    },
    {
      "cell_type": "code",
      "source": [
        "#Define start and end for prediction \n",
        "start = len(train_df)\n",
        "end = len(train_df) + len(test_df) - 1\n",
        "\n",
        "prediction = train_model.predict(start=start, end=end+60, dynamic=True)\n",
        "# Plot testing data with prediction\n",
        "plt.plot(test_df['Adj Close'], 'orange', label='Actual Adj Close Price')\n",
        "plt.plot(prediction, 'green', label='Predicted Price')\n",
        "plt.title('Price Prediction')\n",
        "plt.ylabel(\"Prices\")\n",
        "plt.legend()\n",
        "plt.show()\n"
      ],
      "metadata": {
        "id": "_IonVI2BGNur",
        "outputId": "27a30058-fdb2-49dd-8f54-de155588cfe1",
        "colab": {
          "base_uri": "https://localhost:8080/",
          "height": 281
        }
      },
      "execution_count": 99,
      "outputs": [
        {
          "output_type": "display_data",
          "data": {
            "text/plain": [
              "<Figure size 432x288 with 1 Axes>"
            ],
            "image/png": "[encoded data removed]"
          },
          "metadata": {
            "needs_background": "light"
          }
        }
      ]
    },
    {
      "cell_type": "code",
      "source": [
        "#Define start and end for prediction \n",
        "start = len(train_df)\n",
        "end = len(train_df) + len(test_df) - 1\n",
        "\n",
        "prediction = train_model.predict(start=start, end=end+30, dynamic=True)\n",
        "# Plot testing data with prediction\n",
        "plt.plot(test_df['Adj Close'], 'orange', label='Actual Adj Close Price')\n",
        "plt.plot(prediction, 'green', label='Predicted Price')\n",
        "plt.title('Price Prediction')\n",
        "plt.ylabel(\"Prices\")\n",
        "plt.legend()\n",
        "plt.show()"
      ],
      "metadata": {
        "id": "C59AnYw1Glsm",
        "outputId": "ecc83054-ae12-44b5-ce39-359e7272b98c",
        "colab": {
          "base_uri": "https://localhost:8080/",
          "height": 281
        }
      },
      "execution_count": 100,
      "outputs": [
        {
          "output_type": "display_data",
          "data": {
            "text/plain": [
              "<Figure size 432x288 with 1 Axes>"
            ],
            "image/png": "[encoded data removed]"
          },
          "metadata": {
            "needs_background": "light"
          }
        }
      ]
    }
  ]
}