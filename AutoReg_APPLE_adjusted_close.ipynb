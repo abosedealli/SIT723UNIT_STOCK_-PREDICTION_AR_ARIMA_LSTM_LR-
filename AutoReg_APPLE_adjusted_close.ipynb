{
  "nbformat": 4,
  "nbformat_minor": 0,
  "metadata": {
    "colab": {
      "provenance": [],
      "authorship_tag": "ABX9TyP7I7+Pmzgl9J9SjvxN5X9+",
      "include_colab_link": true
    },
    "kernelspec": {
      "name": "python3",
      "display_name": "Python 3"
    },
    "language_info": {
      "name": "python"
    }
  },
  "cells": [
    {
      "cell_type": "markdown",
      "metadata": {
        "id": "view-in-github",
        "colab_type": "text"
      },
      "source": [
        "<a href=\"https://colab.research.google.com/github/abosedealli/SIT723UNIT_STOCK_-PREDICTION_AR_ARIMA_LSTM_LR-/blob/main/AutoReg_APPLE_adjusted_close.ipynb\" target=\"_parent\"><img src=\"https://colab.research.google.com/assets/colab-badge.svg\" alt=\"Open In Colab\"/></a>"
      ]
    },
    {
      "cell_type": "code",
      "execution_count": null,
      "metadata": {
        "colab": {
          "base_uri": "https://localhost:8080/"
        },
        "id": "8ZVpNerXnpZp",
        "outputId": "79362f83-e3f4-4472-8ea0-fa2e01175c28"
      },
      "outputs": [
        {
          "output_type": "stream",
          "name": "stdout",
          "text": [
            "Looking in indexes: https://pypi.org/simple, https://us-python.pkg.dev/colab-wheels/public/simple/\n",
            "Requirement already satisfied: pandas in /usr/local/lib/python3.8/dist-packages (1.3.5)\n",
            "Requirement already satisfied: python-dateutil>=2.7.3 in /usr/local/lib/python3.8/dist-packages (from pandas) (2.8.2)\n",
            "Requirement already satisfied: numpy>=1.17.3 in /usr/local/lib/python3.8/dist-packages (from pandas) (1.21.6)\n",
            "Requirement already satisfied: pytz>=2017.3 in /usr/local/lib/python3.8/dist-packages (from pandas) (2022.7.1)\n",
            "Requirement already satisfied: six>=1.5 in /usr/local/lib/python3.8/dist-packages (from python-dateutil>=2.7.3->pandas) (1.15.0)\n"
          ]
        }
      ],
      "source": [
        "from ast import Module\n",
        "!pip install pandas\n",
        "import pandas as pd\n",
        "import matplotlib.pyplot as plt\n",
        "from statsmodels.tsa.ar_model import AutoReg\n",
        "from statsmodels.tsa.ar_model import ar_select_order\n",
        "\n",
        "\n",
        "df =pd.read_csv('/content/AAPL.dataset.csv')\n"
      ]
    },
    {
      "cell_type": "code",
      "source": [
        "df"
      ],
      "metadata": {
        "colab": {
          "base_uri": "https://localhost:8080/",
          "height": 423
        },
        "id": "6JTM3QWBr3PZ",
        "outputId": "1854c8ac-1425-4a44-bbdc-7e37472431e3"
      },
      "execution_count": null,
      "outputs": [
        {
          "output_type": "execute_result",
          "data": {
            "text/plain": [
              "             Date        Open        High  ...       Close   Adj Close     Volume\n",
              "0      15/12/1980    0.122210    0.122210  ...    0.121652    0.094663  175884800\n",
              "1      16/12/1980    0.113281    0.113281  ...    0.112723    0.087715  105728000\n",
              "2      17/12/1980    0.115513    0.116071  ...    0.115513    0.089886   86441600\n",
              "3      18/12/1980    0.118862    0.119420  ...    0.118862    0.092492   73449600\n",
              "4      19/12/1980    0.126116    0.126674  ...    0.126116    0.098137   48630400\n",
              "...           ...         ...         ...  ...         ...         ...        ...\n",
              "10609  12/01/2023  133.880005  134.259995  ...  133.410004  133.410004   71379600\n",
              "10610  13/01/2023  132.029999  134.919998  ...  134.759995  134.759995   57758000\n",
              "10611  17/01/2023  134.830002  137.289993  ...  135.940002  135.940002   63646600\n",
              "10612  18/01/2023  136.820007  138.610001  ...  135.210007  135.210007   69672800\n",
              "10613  19/01/2023  134.080002  136.250000  ...  135.270004  135.270004   58280400\n",
              "\n",
              "[10614 rows x 7 columns]"
            ],
            "text/html": [
              "\n",
              "  <div id=\"df-3baf4f74-39ad-4a99-b8a4-4fdcb2094f88\">\n",
              "    <div class=\"colab-df-container\">\n",
              "      <div>\n",
              "<style scoped>\n",
              "    .dataframe tbody tr th:only-of-type {\n",
              "        vertical-align: middle;\n",
              "    }\n",
              "\n",
              "    .dataframe tbody tr th {\n",
              "        vertical-align: top;\n",
              "    }\n",
              "\n",
              "    .dataframe thead th {\n",
              "        text-align: right;\n",
              "    }\n",
              "</style>\n",
              "<table border=\"1\" class=\"dataframe\">\n",
              "  <thead>\n",
              "    <tr style=\"text-align: right;\">\n",
              "      <th></th>\n",
              "      <th>Date</th>\n",
              "      <th>Open</th>\n",
              "      <th>High</th>\n",
              "      <th>Low</th>\n",
              "      <th>Close</th>\n",
              "      <th>Adj Close</th>\n",
              "      <th>Volume</th>\n",
              "    </tr>\n",
              "  </thead>\n",
              "  <tbody>\n",
              "    <tr>\n",
              "      <th>0</th>\n",
              "      <td>15/12/1980</td>\n",
              "      <td>0.122210</td>\n",
              "      <td>0.122210</td>\n",
              "      <td>0.121652</td>\n",
              "      <td>0.121652</td>\n",
              "      <td>0.094663</td>\n",
              "      <td>175884800</td>\n",
              "    </tr>\n",
              "    <tr>\n",
              "      <th>1</th>\n",
              "      <td>16/12/1980</td>\n",
              "      <td>0.113281</td>\n",
              "      <td>0.113281</td>\n",
              "      <td>0.112723</td>\n",
              "      <td>0.112723</td>\n",
              "      <td>0.087715</td>\n",
              "      <td>105728000</td>\n",
              "    </tr>\n",
              "    <tr>\n",
              "      <th>2</th>\n",
              "      <td>17/12/1980</td>\n",
              "      <td>0.115513</td>\n",
              "      <td>0.116071</td>\n",
              "      <td>0.115513</td>\n",
              "      <td>0.115513</td>\n",
              "      <td>0.089886</td>\n",
              "      <td>86441600</td>\n",
              "    </tr>\n",
              "    <tr>\n",
              "      <th>3</th>\n",
              "      <td>18/12/1980</td>\n",
              "      <td>0.118862</td>\n",
              "      <td>0.119420</td>\n",
              "      <td>0.118862</td>\n",
              "      <td>0.118862</td>\n",
              "      <td>0.092492</td>\n",
              "      <td>73449600</td>\n",
              "    </tr>\n",
              "    <tr>\n",
              "      <th>4</th>\n",
              "      <td>19/12/1980</td>\n",
              "      <td>0.126116</td>\n",
              "      <td>0.126674</td>\n",
              "      <td>0.126116</td>\n",
              "      <td>0.126116</td>\n",
              "      <td>0.098137</td>\n",
              "      <td>48630400</td>\n",
              "    </tr>\n",
              "    <tr>\n",
              "      <th>...</th>\n",
              "      <td>...</td>\n",
              "      <td>...</td>\n",
              "      <td>...</td>\n",
              "      <td>...</td>\n",
              "      <td>...</td>\n",
              "      <td>...</td>\n",
              "      <td>...</td>\n",
              "    </tr>\n",
              "    <tr>\n",
              "      <th>10609</th>\n",
              "      <td>12/01/2023</td>\n",
              "      <td>133.880005</td>\n",
              "      <td>134.259995</td>\n",
              "      <td>131.440002</td>\n",
              "      <td>133.410004</td>\n",
              "      <td>133.410004</td>\n",
              "      <td>71379600</td>\n",
              "    </tr>\n",
              "    <tr>\n",
              "      <th>10610</th>\n",
              "      <td>13/01/2023</td>\n",
              "      <td>132.029999</td>\n",
              "      <td>134.919998</td>\n",
              "      <td>131.660004</td>\n",
              "      <td>134.759995</td>\n",
              "      <td>134.759995</td>\n",
              "      <td>57758000</td>\n",
              "    </tr>\n",
              "    <tr>\n",
              "      <th>10611</th>\n",
              "      <td>17/01/2023</td>\n",
              "      <td>134.830002</td>\n",
              "      <td>137.289993</td>\n",
              "      <td>134.130005</td>\n",
              "      <td>135.940002</td>\n",
              "      <td>135.940002</td>\n",
              "      <td>63646600</td>\n",
              "    </tr>\n",
              "    <tr>\n",
              "      <th>10612</th>\n",
              "      <td>18/01/2023</td>\n",
              "      <td>136.820007</td>\n",
              "      <td>138.610001</td>\n",
              "      <td>135.029999</td>\n",
              "      <td>135.210007</td>\n",
              "      <td>135.210007</td>\n",
              "      <td>69672800</td>\n",
              "    </tr>\n",
              "    <tr>\n",
              "      <th>10613</th>\n",
              "      <td>19/01/2023</td>\n",
              "      <td>134.080002</td>\n",
              "      <td>136.250000</td>\n",
              "      <td>133.770004</td>\n",
              "      <td>135.270004</td>\n",
              "      <td>135.270004</td>\n",
              "      <td>58280400</td>\n",
              "    </tr>\n",
              "  </tbody>\n",
              "</table>\n",
              "<p>10614 rows × 7 columns</p>\n",
              "</div>\n",
              "      <button class=\"colab-df-convert\" onclick=\"convertToInteractive('df-3baf4f74-39ad-4a99-b8a4-4fdcb2094f88')\"\n",
              "              title=\"Convert this dataframe to an interactive table.\"\n",
              "              style=\"display:none;\">\n",
              "        \n",
              "  <svg xmlns=\"http://www.w3.org/2000/svg\" height=\"24px\"viewBox=\"0 0 24 24\"\n",
              "       width=\"24px\">\n",
              "    <path d=\"M0 0h24v24H0V0z\" fill=\"none\"/>\n",
              "    <path d=\"M18.56 5.44l.94 2.06.94-2.06 2.06-.94-2.06-.94-.94-2.06-.94 2.06-2.06.94zm-11 1L8.5 8.5l.94-2.06 2.06-.94-2.06-.94L8.5 2.5l-.94 2.06-2.06.94zm10 10l.94 2.06.94-2.06 2.06-.94-2.06-.94-.94-2.06-.94 2.06-2.06.94z\"/><path d=\"M17.41 7.96l-1.37-1.37c-.4-.4-.92-.59-1.43-.59-.52 0-1.04.2-1.43.59L10.3 9.45l-7.72 7.72c-.78.78-.78 2.05 0 2.83L4 21.41c.39.39.9.59 1.41.59.51 0 1.02-.2 1.41-.59l7.78-7.78 2.81-2.81c.8-.78.8-2.07 0-2.86zM5.41 20L4 18.59l7.72-7.72 1.47 1.35L5.41 20z\"/>\n",
              "  </svg>\n",
              "      </button>\n",
              "      \n",
              "  <style>\n",
              "    .colab-df-container {\n",
              "      display:flex;\n",
              "      flex-wrap:wrap;\n",
              "      gap: 12px;\n",
              "    }\n",
              "\n",
              "    .colab-df-convert {\n",
              "      background-color: #E8F0FE;\n",
              "      border: none;\n",
              "      border-radius: 50%;\n",
              "      cursor: pointer;\n",
              "      display: none;\n",
              "      fill: #1967D2;\n",
              "      height: 32px;\n",
              "      padding: 0 0 0 0;\n",
              "      width: 32px;\n",
              "    }\n",
              "\n",
              "    .colab-df-convert:hover {\n",
              "      background-color: #E2EBFA;\n",
              "      box-shadow: 0px 1px 2px rgba(60, 64, 67, 0.3), 0px 1px 3px 1px rgba(60, 64, 67, 0.15);\n",
              "      fill: #174EA6;\n",
              "    }\n",
              "\n",
              "    [theme=dark] .colab-df-convert {\n",
              "      background-color: #3B4455;\n",
              "      fill: #D2E3FC;\n",
              "    }\n",
              "\n",
              "    [theme=dark] .colab-df-convert:hover {\n",
              "      background-color: #434B5C;\n",
              "      box-shadow: 0px 1px 3px 1px rgba(0, 0, 0, 0.15);\n",
              "      filter: drop-shadow(0px 1px 2px rgba(0, 0, 0, 0.3));\n",
              "      fill: #FFFFFF;\n",
              "    }\n",
              "  </style>\n",
              "\n",
              "      <script>\n",
              "        const buttonEl =\n",
              "          document.querySelector('#df-3baf4f74-39ad-4a99-b8a4-4fdcb2094f88 button.colab-df-convert');\n",
              "        buttonEl.style.display =\n",
              "          google.colab.kernel.accessAllowed ? 'block' : 'none';\n",
              "\n",
              "        async function convertToInteractive(key) {\n",
              "          const element = document.querySelector('#df-3baf4f74-39ad-4a99-b8a4-4fdcb2094f88');\n",
              "          const dataTable =\n",
              "            await google.colab.kernel.invokeFunction('convertToInteractive',\n",
              "                                                     [key], {});\n",
              "          if (!dataTable) return;\n",
              "\n",
              "          const docLinkHtml = 'Like what you see? Visit the ' +\n",
              "            '<a target=\"_blank\" href=https://colab.research.google.com/notebooks/data_table.ipynb>data table notebook</a>'\n",
              "            + ' to learn more about interactive tables.';\n",
              "          element.innerHTML = '';\n",
              "          dataTable['output_type'] = 'display_data';\n",
              "          await google.colab.output.renderOutput(dataTable, element);\n",
              "          const docLink = document.createElement('div');\n",
              "          docLink.innerHTML = docLinkHtml;\n",
              "          element.appendChild(docLink);\n",
              "        }\n",
              "      </script>\n",
              "    </div>\n",
              "  </div>\n",
              "  "
            ]
          },
          "metadata": {},
          "execution_count": 14
        }
      ]
    },
    {
      "cell_type": "code",
      "source": [
        "date=df['Date']\n",
        "date"
      ],
      "metadata": {
        "colab": {
          "base_uri": "https://localhost:8080/"
        },
        "id": "c4PkvEK44NJk",
        "outputId": "331ac268-3062-422c-94cb-493efd140869"
      },
      "execution_count": null,
      "outputs": [
        {
          "output_type": "execute_result",
          "data": {
            "text/plain": [
              "0        15/12/1980\n",
              "1        16/12/1980\n",
              "2        17/12/1980\n",
              "3        18/12/1980\n",
              "4        19/12/1980\n",
              "            ...    \n",
              "10609    12/01/2023\n",
              "10610    13/01/2023\n",
              "10611    17/01/2023\n",
              "10612    18/01/2023\n",
              "10613    19/01/2023\n",
              "Name: Date, Length: 10614, dtype: object"
            ]
          },
          "metadata": {},
          "execution_count": 87
        }
      ]
    },
    {
      "cell_type": "code",
      "source": [
        "a_df=df['Adj Close']"
      ],
      "metadata": {
        "id": "FVcFXJABseza"
      },
      "execution_count": null,
      "outputs": []
    },
    {
      "cell_type": "code",
      "source": [
        "a_df.describe()"
      ],
      "metadata": {
        "colab": {
          "base_uri": "https://localhost:8080/"
        },
        "id": "NAwXW7xrvtVr",
        "outputId": "ca8d2742-1199-4ea6-c20b-9f2863532446"
      },
      "execution_count": null,
      "outputs": [
        {
          "output_type": "execute_result",
          "data": {
            "text/plain": [
              "count    10614.000000\n",
              "mean        15.938015\n",
              "std         35.020572\n",
              "min          0.038213\n",
              "25%          0.237927\n",
              "50%          0.404036\n",
              "75%         13.993164\n",
              "max        180.959732\n",
              "Name: Adj Close, dtype: float64"
            ]
          },
          "metadata": {},
          "execution_count": 61
        }
      ]
    },
    {
      "cell_type": "code",
      "source": [
        "df['Date']"
      ],
      "metadata": {
        "colab": {
          "base_uri": "https://localhost:8080/"
        },
        "id": "DCemJfFL0PPz",
        "outputId": "625b56fb-181f-4026-d299-250a7f825f4a"
      },
      "execution_count": null,
      "outputs": [
        {
          "output_type": "execute_result",
          "data": {
            "text/plain": [
              "0        15/12/1980\n",
              "1        16/12/1980\n",
              "2        17/12/1980\n",
              "3        18/12/1980\n",
              "4        19/12/1980\n",
              "            ...    \n",
              "10609    12/01/2023\n",
              "10610    13/01/2023\n",
              "10611    17/01/2023\n",
              "10612    18/01/2023\n",
              "10613    19/01/2023\n",
              "Name: Date, Length: 10614, dtype: object"
            ]
          },
          "metadata": {},
          "execution_count": 64
        }
      ]
    },
    {
      "cell_type": "code",
      "source": [
        "from statsmodels.tsa.stattools import adfuller\n",
        "df_stationarityTest=adfuller(a_df,autolag='AIC')"
      ],
      "metadata": {
        "id": "_qw3YovZtR8_"
      },
      "execution_count": null,
      "outputs": []
    },
    {
      "cell_type": "code",
      "source": [
        "train_data, test_data = df[0:int(len(df)*0.8)], df[int(len(df)*0.8):]\n",
        "plt.figure(figsize=(16,8))\n",
        "plt.grid(True)\n",
        "plt.xlabel('Dates')\n",
        "plt.ylabel('Adj Close Prices')\n",
        "plt.plot(df['Adj Close'], 'green', label='Train data')\n",
        "plt.plot(test_data['Adj Close'], 'blue', label='Test data')\n",
        "plt.legend()"
      ],
      "metadata": {
        "colab": {
          "base_uri": "https://localhost:8080/",
          "height": 514
        },
        "id": "cDVtGe6xzhwv",
        "outputId": "7b07d862-d730-485a-d58b-5c19803431e5"
      },
      "execution_count": null,
      "outputs": [
        {
          "output_type": "execute_result",
          "data": {
            "text/plain": [
              "<matplotlib.legend.Legend at 0x7f53c858a6a0>"
            ]
          },
          "metadata": {},
          "execution_count": 30
        },
        {
          "output_type": "display_data",
          "data": {
            "text/plain": [
              "<Figure size 1152x576 with 1 Axes>"
            ],
            "image/png": "[encoded data removed]"
          },
          "metadata": {
            "needs_background": "light"
          }
        }
      ]
    },
    {
      "cell_type": "code",
      "source": [
        "df.set_index(pd.DatetimeIndex(df['Date']), inplace=False)"
      ],
      "metadata": {
        "colab": {
          "base_uri": "https://localhost:8080/",
          "height": 455
        },
        "id": "5pOKAgQKNgae",
        "outputId": "9d42aa28-963d-489b-f9b4-97caa4279007"
      },
      "execution_count": null,
      "outputs": [
        {
          "output_type": "execute_result",
          "data": {
            "text/plain": [
              "                  Date        Open  ...     Volume                 timestamp\n",
              "Date                                ...                                     \n",
              "1980-12-15  15/12/1980    0.122210  ...  175884800 1980-12-15 00:00:00+00:00\n",
              "1980-12-16  16/12/1980    0.113281  ...  105728000 1980-12-16 00:00:00+00:00\n",
              "1980-12-17  17/12/1980    0.115513  ...   86441600 1980-12-17 00:00:00+00:00\n",
              "1980-12-18  18/12/1980    0.118862  ...   73449600 1980-12-18 00:00:00+00:00\n",
              "1980-12-19  19/12/1980    0.126116  ...   48630400 1980-12-19 00:00:00+00:00\n",
              "...                ...         ...  ...        ...                       ...\n",
              "2023-12-01  12/01/2023  133.880005  ...   71379600 2023-12-01 00:00:00+00:00\n",
              "2023-01-13  13/01/2023  132.029999  ...   57758000 2023-01-13 00:00:00+00:00\n",
              "2023-01-17  17/01/2023  134.830002  ...   63646600 2023-01-17 00:00:00+00:00\n",
              "2023-01-18  18/01/2023  136.820007  ...   69672800 2023-01-18 00:00:00+00:00\n",
              "2023-01-19  19/01/2023  134.080002  ...   58280400 2023-01-19 00:00:00+00:00\n",
              "\n",
              "[10614 rows x 8 columns]"
            ],
            "text/html": [
              "\n",
              "  <div id=\"df-dd22a3b7-15fb-4ee8-a0d8-b53ae2b50092\">\n",
              "    <div class=\"colab-df-container\">\n",
              "      <div>\n",
              "<style scoped>\n",
              "    .dataframe tbody tr th:only-of-type {\n",
              "        vertical-align: middle;\n",
              "    }\n",
              "\n",
              "    .dataframe tbody tr th {\n",
              "        vertical-align: top;\n",
              "    }\n",
              "\n",
              "    .dataframe thead th {\n",
              "        text-align: right;\n",
              "    }\n",
              "</style>\n",
              "<table border=\"1\" class=\"dataframe\">\n",
              "  <thead>\n",
              "    <tr style=\"text-align: right;\">\n",
              "      <th></th>\n",
              "      <th>Date</th>\n",
              "      <th>Open</th>\n",
              "      <th>High</th>\n",
              "      <th>Low</th>\n",
              "      <th>Close</th>\n",
              "      <th>Adj Close</th>\n",
              "      <th>Volume</th>\n",
              "      <th>timestamp</th>\n",
              "    </tr>\n",
              "    <tr>\n",
              "      <th>Date</th>\n",
              "      <th></th>\n",
              "      <th></th>\n",
              "      <th></th>\n",
              "      <th></th>\n",
              "      <th></th>\n",
              "      <th></th>\n",
              "      <th></th>\n",
              "      <th></th>\n",
              "    </tr>\n",
              "  </thead>\n",
              "  <tbody>\n",
              "    <tr>\n",
              "      <th>1980-12-15</th>\n",
              "      <td>15/12/1980</td>\n",
              "      <td>0.122210</td>\n",
              "      <td>0.122210</td>\n",
              "      <td>0.121652</td>\n",
              "      <td>0.121652</td>\n",
              "      <td>0.094663</td>\n",
              "      <td>175884800</td>\n",
              "      <td>1980-12-15 00:00:00+00:00</td>\n",
              "    </tr>\n",
              "    <tr>\n",
              "      <th>1980-12-16</th>\n",
              "      <td>16/12/1980</td>\n",
              "      <td>0.113281</td>\n",
              "      <td>0.113281</td>\n",
              "      <td>0.112723</td>\n",
              "      <td>0.112723</td>\n",
              "      <td>0.087715</td>\n",
              "      <td>105728000</td>\n",
              "      <td>1980-12-16 00:00:00+00:00</td>\n",
              "    </tr>\n",
              "    <tr>\n",
              "      <th>1980-12-17</th>\n",
              "      <td>17/12/1980</td>\n",
              "      <td>0.115513</td>\n",
              "      <td>0.116071</td>\n",
              "      <td>0.115513</td>\n",
              "      <td>0.115513</td>\n",
              "      <td>0.089886</td>\n",
              "      <td>86441600</td>\n",
              "      <td>1980-12-17 00:00:00+00:00</td>\n",
              "    </tr>\n",
              "    <tr>\n",
              "      <th>1980-12-18</th>\n",
              "      <td>18/12/1980</td>\n",
              "      <td>0.118862</td>\n",
              "      <td>0.119420</td>\n",
              "      <td>0.118862</td>\n",
              "      <td>0.118862</td>\n",
              "      <td>0.092492</td>\n",
              "      <td>73449600</td>\n",
              "      <td>1980-12-18 00:00:00+00:00</td>\n",
              "    </tr>\n",
              "    <tr>\n",
              "      <th>1980-12-19</th>\n",
              "      <td>19/12/1980</td>\n",
              "      <td>0.126116</td>\n",
              "      <td>0.126674</td>\n",
              "      <td>0.126116</td>\n",
              "      <td>0.126116</td>\n",
              "      <td>0.098137</td>\n",
              "      <td>48630400</td>\n",
              "      <td>1980-12-19 00:00:00+00:00</td>\n",
              "    </tr>\n",
              "    <tr>\n",
              "      <th>...</th>\n",
              "      <td>...</td>\n",
              "      <td>...</td>\n",
              "      <td>...</td>\n",
              "      <td>...</td>\n",
              "      <td>...</td>\n",
              "      <td>...</td>\n",
              "      <td>...</td>\n",
              "      <td>...</td>\n",
              "    </tr>\n",
              "    <tr>\n",
              "      <th>2023-12-01</th>\n",
              "      <td>12/01/2023</td>\n",
              "      <td>133.880005</td>\n",
              "      <td>134.259995</td>\n",
              "      <td>131.440002</td>\n",
              "      <td>133.410004</td>\n",
              "      <td>133.410004</td>\n",
              "      <td>71379600</td>\n",
              "      <td>2023-12-01 00:00:00+00:00</td>\n",
              "    </tr>\n",
              "    <tr>\n",
              "      <th>2023-01-13</th>\n",
              "      <td>13/01/2023</td>\n",
              "      <td>132.029999</td>\n",
              "      <td>134.919998</td>\n",
              "      <td>131.660004</td>\n",
              "      <td>134.759995</td>\n",
              "      <td>134.759995</td>\n",
              "      <td>57758000</td>\n",
              "      <td>2023-01-13 00:00:00+00:00</td>\n",
              "    </tr>\n",
              "    <tr>\n",
              "      <th>2023-01-17</th>\n",
              "      <td>17/01/2023</td>\n",
              "      <td>134.830002</td>\n",
              "      <td>137.289993</td>\n",
              "      <td>134.130005</td>\n",
              "      <td>135.940002</td>\n",
              "      <td>135.940002</td>\n",
              "      <td>63646600</td>\n",
              "      <td>2023-01-17 00:00:00+00:00</td>\n",
              "    </tr>\n",
              "    <tr>\n",
              "      <th>2023-01-18</th>\n",
              "      <td>18/01/2023</td>\n",
              "      <td>136.820007</td>\n",
              "      <td>138.610001</td>\n",
              "      <td>135.029999</td>\n",
              "      <td>135.210007</td>\n",
              "      <td>135.210007</td>\n",
              "      <td>69672800</td>\n",
              "      <td>2023-01-18 00:00:00+00:00</td>\n",
              "    </tr>\n",
              "    <tr>\n",
              "      <th>2023-01-19</th>\n",
              "      <td>19/01/2023</td>\n",
              "      <td>134.080002</td>\n",
              "      <td>136.250000</td>\n",
              "      <td>133.770004</td>\n",
              "      <td>135.270004</td>\n",
              "      <td>135.270004</td>\n",
              "      <td>58280400</td>\n",
              "      <td>2023-01-19 00:00:00+00:00</td>\n",
              "    </tr>\n",
              "  </tbody>\n",
              "</table>\n",
              "<p>10614 rows × 8 columns</p>\n",
              "</div>\n",
              "      <button class=\"colab-df-convert\" onclick=\"convertToInteractive('df-dd22a3b7-15fb-4ee8-a0d8-b53ae2b50092')\"\n",
              "              title=\"Convert this dataframe to an interactive table.\"\n",
              "              style=\"display:none;\">\n",
              "        \n",
              "  <svg xmlns=\"http://www.w3.org/2000/svg\" height=\"24px\"viewBox=\"0 0 24 24\"\n",
              "       width=\"24px\">\n",
              "    <path d=\"M0 0h24v24H0V0z\" fill=\"none\"/>\n",
              "    <path d=\"M18.56 5.44l.94 2.06.94-2.06 2.06-.94-2.06-.94-.94-2.06-.94 2.06-2.06.94zm-11 1L8.5 8.5l.94-2.06 2.06-.94-2.06-.94L8.5 2.5l-.94 2.06-2.06.94zm10 10l.94 2.06.94-2.06 2.06-.94-2.06-.94-.94-2.06-.94 2.06-2.06.94z\"/><path d=\"M17.41 7.96l-1.37-1.37c-.4-.4-.92-.59-1.43-.59-.52 0-1.04.2-1.43.59L10.3 9.45l-7.72 7.72c-.78.78-.78 2.05 0 2.83L4 21.41c.39.39.9.59 1.41.59.51 0 1.02-.2 1.41-.59l7.78-7.78 2.81-2.81c.8-.78.8-2.07 0-2.86zM5.41 20L4 18.59l7.72-7.72 1.47 1.35L5.41 20z\"/>\n",
              "  </svg>\n",
              "      </button>\n",
              "      \n",
              "  <style>\n",
              "    .colab-df-container {\n",
              "      display:flex;\n",
              "      flex-wrap:wrap;\n",
              "      gap: 12px;\n",
              "    }\n",
              "\n",
              "    .colab-df-convert {\n",
              "      background-color: #E8F0FE;\n",
              "      border: none;\n",
              "      border-radius: 50%;\n",
              "      cursor: pointer;\n",
              "      display: none;\n",
              "      fill: #1967D2;\n",
              "      height: 32px;\n",
              "      padding: 0 0 0 0;\n",
              "      width: 32px;\n",
              "    }\n",
              "\n",
              "    .colab-df-convert:hover {\n",
              "      background-color: #E2EBFA;\n",
              "      box-shadow: 0px 1px 2px rgba(60, 64, 67, 0.3), 0px 1px 3px 1px rgba(60, 64, 67, 0.15);\n",
              "      fill: #174EA6;\n",
              "    }\n",
              "\n",
              "    [theme=dark] .colab-df-convert {\n",
              "      background-color: #3B4455;\n",
              "      fill: #D2E3FC;\n",
              "    }\n",
              "\n",
              "    [theme=dark] .colab-df-convert:hover {\n",
              "      background-color: #434B5C;\n",
              "      box-shadow: 0px 1px 3px 1px rgba(0, 0, 0, 0.15);\n",
              "      filter: drop-shadow(0px 1px 2px rgba(0, 0, 0, 0.3));\n",
              "      fill: #FFFFFF;\n",
              "    }\n",
              "  </style>\n",
              "\n",
              "      <script>\n",
              "        const buttonEl =\n",
              "          document.querySelector('#df-dd22a3b7-15fb-4ee8-a0d8-b53ae2b50092 button.colab-df-convert');\n",
              "        buttonEl.style.display =\n",
              "          google.colab.kernel.accessAllowed ? 'block' : 'none';\n",
              "\n",
              "        async function convertToInteractive(key) {\n",
              "          const element = document.querySelector('#df-dd22a3b7-15fb-4ee8-a0d8-b53ae2b50092');\n",
              "          const dataTable =\n",
              "            await google.colab.kernel.invokeFunction('convertToInteractive',\n",
              "                                                     [key], {});\n",
              "          if (!dataTable) return;\n",
              "\n",
              "          const docLinkHtml = 'Like what you see? Visit the ' +\n",
              "            '<a target=\"_blank\" href=https://colab.research.google.com/notebooks/data_table.ipynb>data table notebook</a>'\n",
              "            + ' to learn more about interactive tables.';\n",
              "          element.innerHTML = '';\n",
              "          dataTable['output_type'] = 'display_data';\n",
              "          await google.colab.output.renderOutput(dataTable, element);\n",
              "          const docLink = document.createElement('div');\n",
              "          docLink.innerHTML = docLinkHtml;\n",
              "          element.appendChild(docLink);\n",
              "        }\n",
              "      </script>\n",
              "    </div>\n",
              "  </div>\n",
              "  "
            ]
          },
          "metadata": {},
          "execution_count": 130
        }
      ]
    },
    {
      "cell_type": "code",
      "source": [
        "from pandas.plotting import lag_plot\n",
        "plt.figure(figsize=(12,8))\n",
        "lag_plot(df['Adj Close'], lag=1)\n",
        "plt.title('Auto correlation plot')\n",
        "plt.grid(True)\n",
        "plt.legend();\n",
        "\n",
        "from pandas import DataFrame\n",
        "from pandas import concat\n",
        "values = DataFrame(df['Adj Close'].values)\n",
        "dataframe = concat([values.shift(120), values], axis=1)\n",
        "dataframe.columns = ['t-1', 't+1']\n",
        "result = dataframe.corr()\n",
        "print(result)"
      ],
      "metadata": {
        "colab": {
          "base_uri": "https://localhost:8080/",
          "height": 582
        },
        "id": "MIEhtV3ix5Eu",
        "outputId": "8d759f5e-e20e-4dcd-b5bd-b55b530387d2"
      },
      "execution_count": null,
      "outputs": [
        {
          "output_type": "stream",
          "name": "stderr",
          "text": [
            "WARNING:matplotlib.legend:No handles with labels found to put in legend.\n"
          ]
        },
        {
          "output_type": "stream",
          "name": "stdout",
          "text": [
            "          t-1       t+1\n",
            "t-1  1.000000  0.982287\n",
            "t+1  0.982287  1.000000\n"
          ]
        },
        {
          "output_type": "display_data",
          "data": {
            "text/plain": [
              "<Figure size 864x576 with 1 Axes>"
            ],
            "image/png": "[encoded data removed]"
          },
          "metadata": {
            "needs_background": "light"
          }
        }
      ]
    },
    {
      "cell_type": "code",
      "source": [
        "train_data, test_data = df[0:int(len(df)*0.8)], df[int(len(df)*0.8):]\n",
        "plt.figure(figsize=(16,8))\n",
        "plt.grid(True)\n",
        "plt.xlabel('timestamp')\n",
        "plt.ylabel('Adj Close Prices')\n",
        "plt.plot(df['Adj Close'], 'green', label='Train data')\n",
        "plt.plot(test_data['Adj Close'], 'blue', label='Test data')\n",
        "plt.legend()"
      ],
      "metadata": {
        "colab": {
          "base_uri": "https://localhost:8080/",
          "height": 514
        },
        "id": "taAgq93gMELp",
        "outputId": "24b9566d-972b-4319-90eb-4eb14b4d9c07"
      },
      "execution_count": null,
      "outputs": [
        {
          "output_type": "execute_result",
          "data": {
            "text/plain": [
              "<matplotlib.legend.Legend at 0x7f53c78c0490>"
            ]
          },
          "metadata": {},
          "execution_count": 133
        },
        {
          "output_type": "display_data",
          "data": {
            "text/plain": [
              "<Figure size 1152x576 with 1 Axes>"
            ],
            "image/png": "[encoded data removed]"
          },
          "metadata": {
            "needs_background": "light"
          }
        }
      ]
    },
    {
      "cell_type": "code",
      "source": [
        "from pandas import Series\n",
        "from matplotlib import pyplot\n",
        "from statsmodels.tsa.ar_model import AR\n",
        "from sklearn.metrics import mean_squared_error\n",
        "\n",
        "train_ar = train_data['Adj Close']\n",
        "test_ar = test_data['Adj Close']\n",
        "# train autoregression\n",
        "model = AR(train_ar)\n",
        "model_fit = model.fit()\n",
        "window = model_fit.k_ar\n",
        "coef = model_fit.params\n",
        "# walk forward over time steps in test\n",
        "history = train_ar[len(train_ar)-window:]\n",
        "history = [history[i] for i in range(len(history))]\n",
        "predictions = list()\n",
        "for t in range(len(test_ar)):\n",
        "    length = len(history)\n",
        "    lag = [history[i] for i in range(length-window,length)]\n",
        "    yhat = coef[0]\n",
        "    for d in range(window):\n",
        "        yhat += coef[d+1] * lag[window-d-1]\n",
        "    obs = test_ar[t]\n",
        "    predictions.append(yhat)\n",
        "    history.append(obs)"
      ],
      "metadata": {
        "colab": {
          "base_uri": "https://localhost:8080/"
        },
        "id": "eqs16cDoO0eH",
        "outputId": "6958607e-bb56-4c85-a3ec-6150feeff7d1"
      },
      "execution_count": null,
      "outputs": [
        {
          "output_type": "stream",
          "name": "stderr",
          "text": [
            "/usr/local/lib/python3.8/dist-packages/statsmodels/tsa/ar_model.py:791: FutureWarning: \n",
            "statsmodels.tsa.AR has been deprecated in favor of statsmodels.tsa.AutoReg and\n",
            "statsmodels.tsa.SARIMAX.\n",
            "\n",
            "AutoReg adds the ability to specify exogenous variables, include time trends,\n",
            "and add seasonal dummies. The AutoReg API differs from AR since the model is\n",
            "treated as immutable, and so the entire specification including the lag\n",
            "length must be specified when creating the model. This change is too\n",
            "substantial to incorporate into the existing AR api. The function\n",
            "ar_select_order performs lag length selection for AutoReg models.\n",
            "\n",
            "AutoReg only estimates parameters using conditional MLE (OLS). Use SARIMAX to\n",
            "estimate ARX and related models using full MLE via the Kalman Filter.\n",
            "\n",
            "To silence this warning and continue using AR until it is removed, use:\n",
            "\n",
            "import warnings\n",
            "warnings.filterwarnings('ignore', 'statsmodels.tsa.ar_model.AR', FutureWarning)\n",
            "\n",
            "  warnings.warn(AR_DEPRECATION_WARN, FutureWarning)\n",
            "/usr/local/lib/python3.8/dist-packages/statsmodels/tsa/base/tsa_model.py:581: ValueWarning: A date index has been provided, but it has no associated frequency information and so will be ignored when e.g. forecasting.\n",
            "  warnings.warn('A date index has been provided, but it has no'\n",
            "/usr/local/lib/python3.8/dist-packages/statsmodels/tsa/base/tsa_model.py:585: ValueWarning: A date index has been provided, but it is not monotonic and so will be ignored when e.g. forecasting.\n",
            "  warnings.warn('A date index has been provided, but it is not'\n"
          ]
        }
      ]
    },
    {
      "cell_type": "code",
      "source": [
        "plt.figure(figsize=(14,8))\n",
        "print('Lag: %s' % model_fit.k_ar)\n",
        "plt.plot(df.index[-10614:], df['Adj Close'].tail(10614), color='green', label='Adj Close price')\n",
        "plt.plot(test_data.index, test_data['Adj Close'], color='red', label='Test Adj close price')\n",
        "plt.plot(test_data.index, predictions, color='blue', label='Predicted Adj Close price')\n",
        "plt.xticks(rotation=30)\n",
        "plt.grid(True)\n",
        "plt.legend()\n",
        "\n",
        "from sklearn.metrics import mean_squared_error, mean_absolute_error, mean_absolute_percentage_error\n",
        "import math\n",
        "mse = mean_squared_error(test_data['Adj Close'], predictions)\n",
        "print('MSE: '+str(mse))\n",
        "mae = mean_absolute_error(test_data['Adj Close'], predictions)\n",
        "print('MAE: '+str(mae))\n",
        "rmse = math.sqrt(mean_squared_error(test_data['Adj Close'], predictions))\n",
        "print('RMSE: '+str(rmse))\n",
        "\n",
        "plt.savefig('ar_model.pdf')"
      ],
      "metadata": {
        "colab": {
          "base_uri": "https://localhost:8080/",
          "height": 563
        },
        "id": "NL3r32asPT4b",
        "outputId": "375d29ef-286c-4cdd-8dfb-f8f56421c822"
      },
      "execution_count": 144,
      "outputs": [
        {
          "output_type": "stream",
          "name": "stdout",
          "text": [
            "Lag: 36\n",
            "MSE: 3.11204712389572\n",
            "MAE: 1.0212570974751516\n",
            "RMSE: 1.7640995221063125\n"
          ]
        },
        {
          "output_type": "display_data",
          "data": {
            "text/plain": [
              "<Figure size 1008x576 with 1 Axes>"
            ],
            "image/png": "[encoded data removed]"
          },
          "metadata": {
            "needs_background": "light"
          }
        }
      ]
    },
    {
      "cell_type": "code",
      "source": [
        "import numpy as np\n",
        "mape = np.mean(np.abs(predictions - test_data['Adj Close']) / test_data['Adj Close'])\n",
        "print(\"MAPE:\", mape)"
      ],
      "metadata": {
        "id": "JUGR2QLWSwDT",
        "colab": {
          "base_uri": "https://localhost:8080/"
        },
        "outputId": "bf1587c6-a389-4e68-f5c6-0aed10b43360"
      },
      "execution_count": 145,
      "outputs": [
        {
          "output_type": "stream",
          "name": "stdout",
          "text": [
            "MAPE: 0.01338471974897247\n"
          ]
        }
      ]
    }
  ]
}